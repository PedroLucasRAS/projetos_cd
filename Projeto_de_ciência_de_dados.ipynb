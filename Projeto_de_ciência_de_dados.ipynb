{
  "nbformat": 4,
  "nbformat_minor": 0,
  "metadata": {
    "colab": {
      "provenance": []
    },
    "kernelspec": {
      "name": "python3",
      "display_name": "Python 3"
    },
    "language_info": {
      "name": "python"
    }
  },
  "cells": [
    {
      "cell_type": "markdown",
      "source": [
        "# Projeto de ciência de dados\n",
        "\n",
        "## Pedro Lucas Rocha Almeida Santos"
      ],
      "metadata": {
        "id": "Ig4ubYhnC4-Y"
      }
    },
    {
      "cell_type": "markdown",
      "source": [
        "# 1. Introdução\n",
        "### 1.1 Definição do problema\n",
        "\n",
        "O problema central deste projeto reside na necessidade de prever, de forma precisa e eficiente, o tempo de parada de caminhões durante o carregamento de vasilhames de GLP, como P13, P20 e P45.\n",
        "Atualmente, a variação no tempo de permanência pode resultar em ineficiências logísticas, atrasos e dificuldades no planejamento operacional.\n",
        "\n",
        "### 1.2 Proposta\n",
        "Utilizar um algoritmo de regressão linear para modelar essa relação busca resolver essa questão, permitindo uma melhor gestão do tempo e otimização dos recursos no processo de carga dos caminhões. As variáveis features serão as quantidades de vasilhames e a target o tempo de permanência.\n",
        "\n",
        "### 1.3 Hipótese\n",
        "Por meio da utilização do algoritmo serão encontrados os tempos de permanência de cada cliente do dia conforme a quantidade de vasilhames nas suas respectivas carretas.\n",
        "\n",
        "### 1.4 Dados\n",
        "Os dados de treino foram determinados conforme os reais da empresa, porém, por questões confidenciais, não foi possivel utilizar os dados originais, assim, foram estabelecidos com ajuda do chat GPT, uma aproximação conforme os dados reais juntamente a ruídos para aumentar a veracidade."
      ],
      "metadata": {
        "id": "KYByCGjZDGSy"
      }
    },
    {
      "cell_type": "markdown",
      "source": [
        "# 2. Instalando as bibliotecas"
      ],
      "metadata": {
        "id": "bvhTUchZDO4A"
      }
    },
    {
      "cell_type": "code",
      "source": [
        "pip install pandas odfpy # instala as bibliotecas panda e odfpy\n"
      ],
      "metadata": {
        "colab": {
          "base_uri": "https://localhost:8080/"
        },
        "id": "qGvfQ23RESvL",
        "outputId": "7269345d-0fb5-4572-f677-485aeece3518"
      },
      "execution_count": 1,
      "outputs": [
        {
          "output_type": "stream",
          "name": "stdout",
          "text": [
            "Requirement already satisfied: pandas in /usr/local/lib/python3.10/dist-packages (2.2.2)\n",
            "Collecting odfpy\n",
            "  Downloading odfpy-1.4.1.tar.gz (717 kB)\n",
            "\u001b[2K     \u001b[90m━━━━━━━━━━━━━━━━━━━━━━━━━━━━━━━━━━━━━━━━\u001b[0m \u001b[32m717.0/717.0 kB\u001b[0m \u001b[31m11.2 MB/s\u001b[0m eta \u001b[36m0:00:00\u001b[0m\n",
            "\u001b[?25h  Preparing metadata (setup.py) ... \u001b[?25l\u001b[?25hdone\n",
            "Requirement already satisfied: numpy>=1.22.4 in /usr/local/lib/python3.10/dist-packages (from pandas) (1.26.4)\n",
            "Requirement already satisfied: python-dateutil>=2.8.2 in /usr/local/lib/python3.10/dist-packages (from pandas) (2.8.2)\n",
            "Requirement already satisfied: pytz>=2020.1 in /usr/local/lib/python3.10/dist-packages (from pandas) (2024.2)\n",
            "Requirement already satisfied: tzdata>=2022.7 in /usr/local/lib/python3.10/dist-packages (from pandas) (2024.2)\n",
            "Requirement already satisfied: defusedxml in /usr/local/lib/python3.10/dist-packages (from odfpy) (0.7.1)\n",
            "Requirement already satisfied: six>=1.5 in /usr/local/lib/python3.10/dist-packages (from python-dateutil>=2.8.2->pandas) (1.16.0)\n",
            "Building wheels for collected packages: odfpy\n",
            "  Building wheel for odfpy (setup.py) ... \u001b[?25l\u001b[?25hdone\n",
            "  Created wheel for odfpy: filename=odfpy-1.4.1-py2.py3-none-any.whl size=160671 sha256=0f9a870d0c3bf8a7c9b98d0dd9443894ace2324c2805961ab9cd2b0ada83e372\n",
            "  Stored in directory: /root/.cache/pip/wheels/c8/2e/95/90d94fe33903786937f3b8c33dd88807f792359c6424b40469\n",
            "Successfully built odfpy\n",
            "Installing collected packages: odfpy\n",
            "Successfully installed odfpy-1.4.1\n"
          ]
        }
      ]
    },
    {
      "cell_type": "markdown",
      "source": [
        "# 3. Importando as bibliotecas"
      ],
      "metadata": {
        "id": "CL2K9KJPEosY"
      }
    },
    {
      "cell_type": "code",
      "execution_count": 33,
      "metadata": {
        "id": "5_ovzJnsDRN4"
      },
      "outputs": [],
      "source": [
        "import pandas as pd\n",
        "import numpy as np\n",
        "from sklearn.preprocessing import PowerTransformer\n",
        "from sklearn.ensemble import RandomForestRegressor\n",
        "from sklearn.model_selection import train_test_split\n",
        "from sklearn.metrics import mean_squared_error\n",
        "from sklearn.impute import SimpleImputer\n",
        "from sklearn.metrics import mean_squared_error, mean_absolute_error, r2_score\n",
        "import math\n",
        "import matplotlib.pyplot as plt\n",
        "from sklearn.pipeline import Pipeline\n",
        "from sklearn.preprocessing import StandardScaler\n",
        "from sklearn.compose import ColumnTransformer\n",
        "from sklearn.linear_model import LinearRegression\n",
        "from sklearn.svm import SVR\n",
        "from sklearn.neighbors import KNeighborsRegressor\n",
        "from sklearn.tree import DecisionTreeRegressor\n",
        "from sklearn.model_selection import GridSearchCV\n",
        "from sklearn.preprocessing import MinMaxScaler, StandardScaler, OneHotEncoder\n"
      ]
    },
    {
      "cell_type": "markdown",
      "source": [
        "# 4. Importando os dados do Github para o código\n",
        "### 4.1 Importando os dados  e definindos os cabeçalhos\n"
      ],
      "metadata": {
        "id": "eHfEA_YbE5jx"
      }
    },
    {
      "cell_type": "code",
      "source": [
        "# Carrega arquivo csv usando Pandas usando uma URL\n",
        "\n",
        "# Informa a URL de importação do dataset\n",
        "url = \"https://raw.githubusercontent.com/PedroLucasRAS/projetos_cd/refs/heads/main/Dados-Projeto.csv\"\n",
        "\n",
        "# Informa o cabeçalho das colunas\n",
        "colunas = ['Cliente', 'Qtd de vasilhames P 13', 'Qtd P 45','Qtd  P 20', 'Intervalo de horas']\n",
        "\n",
        "# Lê o arquivo utilizando as colunas informadas\n",
        "data = pd.read_csv(url, names=colunas, skiprows=1, delimiter=',')\n"
      ],
      "metadata": {
        "id": "GmN3Pmo5FILg"
      },
      "execution_count": 22,
      "outputs": []
    },
    {
      "cell_type": "code",
      "source": [
        "data.head()"
      ],
      "metadata": {
        "colab": {
          "base_uri": "https://localhost:8080/",
          "height": 206
        },
        "id": "sOH2YQmtJuYw",
        "outputId": "04bdb6ba-7ac3-4c63-8f31-b4e81cc4133c"
      },
      "execution_count": 4,
      "outputs": [
        {
          "output_type": "execute_result",
          "data": {
            "text/plain": [
              "     Cliente  Qtd de vasilhames P 13  Qtd P 45  Qtd  P 20  Intervalo de horas\n",
              "0  Cliente 1                     152        44          0               0.572\n",
              "1  Cliente 2                     485         0         18               0.775\n",
              "2  Cliente 3                     320        24          9               0.685\n",
              "3  Cliente 4                     156         6         11               0.441\n",
              "4  Cliente 5                     121         8         23               0.476"
            ],
            "text/html": [
              "\n",
              "  <div id=\"df-7553d7f2-66e4-4731-9428-7a5284ffd2c3\" class=\"colab-df-container\">\n",
              "    <div>\n",
              "<style scoped>\n",
              "    .dataframe tbody tr th:only-of-type {\n",
              "        vertical-align: middle;\n",
              "    }\n",
              "\n",
              "    .dataframe tbody tr th {\n",
              "        vertical-align: top;\n",
              "    }\n",
              "\n",
              "    .dataframe thead th {\n",
              "        text-align: right;\n",
              "    }\n",
              "</style>\n",
              "<table border=\"1\" class=\"dataframe\">\n",
              "  <thead>\n",
              "    <tr style=\"text-align: right;\">\n",
              "      <th></th>\n",
              "      <th>Cliente</th>\n",
              "      <th>Qtd de vasilhames P 13</th>\n",
              "      <th>Qtd P 45</th>\n",
              "      <th>Qtd  P 20</th>\n",
              "      <th>Intervalo de horas</th>\n",
              "    </tr>\n",
              "  </thead>\n",
              "  <tbody>\n",
              "    <tr>\n",
              "      <th>0</th>\n",
              "      <td>Cliente 1</td>\n",
              "      <td>152</td>\n",
              "      <td>44</td>\n",
              "      <td>0</td>\n",
              "      <td>0.572</td>\n",
              "    </tr>\n",
              "    <tr>\n",
              "      <th>1</th>\n",
              "      <td>Cliente 2</td>\n",
              "      <td>485</td>\n",
              "      <td>0</td>\n",
              "      <td>18</td>\n",
              "      <td>0.775</td>\n",
              "    </tr>\n",
              "    <tr>\n",
              "      <th>2</th>\n",
              "      <td>Cliente 3</td>\n",
              "      <td>320</td>\n",
              "      <td>24</td>\n",
              "      <td>9</td>\n",
              "      <td>0.685</td>\n",
              "    </tr>\n",
              "    <tr>\n",
              "      <th>3</th>\n",
              "      <td>Cliente 4</td>\n",
              "      <td>156</td>\n",
              "      <td>6</td>\n",
              "      <td>11</td>\n",
              "      <td>0.441</td>\n",
              "    </tr>\n",
              "    <tr>\n",
              "      <th>4</th>\n",
              "      <td>Cliente 5</td>\n",
              "      <td>121</td>\n",
              "      <td>8</td>\n",
              "      <td>23</td>\n",
              "      <td>0.476</td>\n",
              "    </tr>\n",
              "  </tbody>\n",
              "</table>\n",
              "</div>\n",
              "    <div class=\"colab-df-buttons\">\n",
              "\n",
              "  <div class=\"colab-df-container\">\n",
              "    <button class=\"colab-df-convert\" onclick=\"convertToInteractive('df-7553d7f2-66e4-4731-9428-7a5284ffd2c3')\"\n",
              "            title=\"Convert this dataframe to an interactive table.\"\n",
              "            style=\"display:none;\">\n",
              "\n",
              "  <svg xmlns=\"http://www.w3.org/2000/svg\" height=\"24px\" viewBox=\"0 -960 960 960\">\n",
              "    <path d=\"M120-120v-720h720v720H120Zm60-500h600v-160H180v160Zm220 220h160v-160H400v160Zm0 220h160v-160H400v160ZM180-400h160v-160H180v160Zm440 0h160v-160H620v160ZM180-180h160v-160H180v160Zm440 0h160v-160H620v160Z\"/>\n",
              "  </svg>\n",
              "    </button>\n",
              "\n",
              "  <style>\n",
              "    .colab-df-container {\n",
              "      display:flex;\n",
              "      gap: 12px;\n",
              "    }\n",
              "\n",
              "    .colab-df-convert {\n",
              "      background-color: #E8F0FE;\n",
              "      border: none;\n",
              "      border-radius: 50%;\n",
              "      cursor: pointer;\n",
              "      display: none;\n",
              "      fill: #1967D2;\n",
              "      height: 32px;\n",
              "      padding: 0 0 0 0;\n",
              "      width: 32px;\n",
              "    }\n",
              "\n",
              "    .colab-df-convert:hover {\n",
              "      background-color: #E2EBFA;\n",
              "      box-shadow: 0px 1px 2px rgba(60, 64, 67, 0.3), 0px 1px 3px 1px rgba(60, 64, 67, 0.15);\n",
              "      fill: #174EA6;\n",
              "    }\n",
              "\n",
              "    .colab-df-buttons div {\n",
              "      margin-bottom: 4px;\n",
              "    }\n",
              "\n",
              "    [theme=dark] .colab-df-convert {\n",
              "      background-color: #3B4455;\n",
              "      fill: #D2E3FC;\n",
              "    }\n",
              "\n",
              "    [theme=dark] .colab-df-convert:hover {\n",
              "      background-color: #434B5C;\n",
              "      box-shadow: 0px 1px 3px 1px rgba(0, 0, 0, 0.15);\n",
              "      filter: drop-shadow(0px 1px 2px rgba(0, 0, 0, 0.3));\n",
              "      fill: #FFFFFF;\n",
              "    }\n",
              "  </style>\n",
              "\n",
              "    <script>\n",
              "      const buttonEl =\n",
              "        document.querySelector('#df-7553d7f2-66e4-4731-9428-7a5284ffd2c3 button.colab-df-convert');\n",
              "      buttonEl.style.display =\n",
              "        google.colab.kernel.accessAllowed ? 'block' : 'none';\n",
              "\n",
              "      async function convertToInteractive(key) {\n",
              "        const element = document.querySelector('#df-7553d7f2-66e4-4731-9428-7a5284ffd2c3');\n",
              "        const dataTable =\n",
              "          await google.colab.kernel.invokeFunction('convertToInteractive',\n",
              "                                                    [key], {});\n",
              "        if (!dataTable) return;\n",
              "\n",
              "        const docLinkHtml = 'Like what you see? Visit the ' +\n",
              "          '<a target=\"_blank\" href=https://colab.research.google.com/notebooks/data_table.ipynb>data table notebook</a>'\n",
              "          + ' to learn more about interactive tables.';\n",
              "        element.innerHTML = '';\n",
              "        dataTable['output_type'] = 'display_data';\n",
              "        await google.colab.output.renderOutput(dataTable, element);\n",
              "        const docLink = document.createElement('div');\n",
              "        docLink.innerHTML = docLinkHtml;\n",
              "        element.appendChild(docLink);\n",
              "      }\n",
              "    </script>\n",
              "  </div>\n",
              "\n",
              "\n",
              "<div id=\"df-fb3a7e29-5ade-4a47-8d05-17b2fb653636\">\n",
              "  <button class=\"colab-df-quickchart\" onclick=\"quickchart('df-fb3a7e29-5ade-4a47-8d05-17b2fb653636')\"\n",
              "            title=\"Suggest charts\"\n",
              "            style=\"display:none;\">\n",
              "\n",
              "<svg xmlns=\"http://www.w3.org/2000/svg\" height=\"24px\"viewBox=\"0 0 24 24\"\n",
              "     width=\"24px\">\n",
              "    <g>\n",
              "        <path d=\"M19 3H5c-1.1 0-2 .9-2 2v14c0 1.1.9 2 2 2h14c1.1 0 2-.9 2-2V5c0-1.1-.9-2-2-2zM9 17H7v-7h2v7zm4 0h-2V7h2v10zm4 0h-2v-4h2v4z\"/>\n",
              "    </g>\n",
              "</svg>\n",
              "  </button>\n",
              "\n",
              "<style>\n",
              "  .colab-df-quickchart {\n",
              "      --bg-color: #E8F0FE;\n",
              "      --fill-color: #1967D2;\n",
              "      --hover-bg-color: #E2EBFA;\n",
              "      --hover-fill-color: #174EA6;\n",
              "      --disabled-fill-color: #AAA;\n",
              "      --disabled-bg-color: #DDD;\n",
              "  }\n",
              "\n",
              "  [theme=dark] .colab-df-quickchart {\n",
              "      --bg-color: #3B4455;\n",
              "      --fill-color: #D2E3FC;\n",
              "      --hover-bg-color: #434B5C;\n",
              "      --hover-fill-color: #FFFFFF;\n",
              "      --disabled-bg-color: #3B4455;\n",
              "      --disabled-fill-color: #666;\n",
              "  }\n",
              "\n",
              "  .colab-df-quickchart {\n",
              "    background-color: var(--bg-color);\n",
              "    border: none;\n",
              "    border-radius: 50%;\n",
              "    cursor: pointer;\n",
              "    display: none;\n",
              "    fill: var(--fill-color);\n",
              "    height: 32px;\n",
              "    padding: 0;\n",
              "    width: 32px;\n",
              "  }\n",
              "\n",
              "  .colab-df-quickchart:hover {\n",
              "    background-color: var(--hover-bg-color);\n",
              "    box-shadow: 0 1px 2px rgba(60, 64, 67, 0.3), 0 1px 3px 1px rgba(60, 64, 67, 0.15);\n",
              "    fill: var(--button-hover-fill-color);\n",
              "  }\n",
              "\n",
              "  .colab-df-quickchart-complete:disabled,\n",
              "  .colab-df-quickchart-complete:disabled:hover {\n",
              "    background-color: var(--disabled-bg-color);\n",
              "    fill: var(--disabled-fill-color);\n",
              "    box-shadow: none;\n",
              "  }\n",
              "\n",
              "  .colab-df-spinner {\n",
              "    border: 2px solid var(--fill-color);\n",
              "    border-color: transparent;\n",
              "    border-bottom-color: var(--fill-color);\n",
              "    animation:\n",
              "      spin 1s steps(1) infinite;\n",
              "  }\n",
              "\n",
              "  @keyframes spin {\n",
              "    0% {\n",
              "      border-color: transparent;\n",
              "      border-bottom-color: var(--fill-color);\n",
              "      border-left-color: var(--fill-color);\n",
              "    }\n",
              "    20% {\n",
              "      border-color: transparent;\n",
              "      border-left-color: var(--fill-color);\n",
              "      border-top-color: var(--fill-color);\n",
              "    }\n",
              "    30% {\n",
              "      border-color: transparent;\n",
              "      border-left-color: var(--fill-color);\n",
              "      border-top-color: var(--fill-color);\n",
              "      border-right-color: var(--fill-color);\n",
              "    }\n",
              "    40% {\n",
              "      border-color: transparent;\n",
              "      border-right-color: var(--fill-color);\n",
              "      border-top-color: var(--fill-color);\n",
              "    }\n",
              "    60% {\n",
              "      border-color: transparent;\n",
              "      border-right-color: var(--fill-color);\n",
              "    }\n",
              "    80% {\n",
              "      border-color: transparent;\n",
              "      border-right-color: var(--fill-color);\n",
              "      border-bottom-color: var(--fill-color);\n",
              "    }\n",
              "    90% {\n",
              "      border-color: transparent;\n",
              "      border-bottom-color: var(--fill-color);\n",
              "    }\n",
              "  }\n",
              "</style>\n",
              "\n",
              "  <script>\n",
              "    async function quickchart(key) {\n",
              "      const quickchartButtonEl =\n",
              "        document.querySelector('#' + key + ' button');\n",
              "      quickchartButtonEl.disabled = true;  // To prevent multiple clicks.\n",
              "      quickchartButtonEl.classList.add('colab-df-spinner');\n",
              "      try {\n",
              "        const charts = await google.colab.kernel.invokeFunction(\n",
              "            'suggestCharts', [key], {});\n",
              "      } catch (error) {\n",
              "        console.error('Error during call to suggestCharts:', error);\n",
              "      }\n",
              "      quickchartButtonEl.classList.remove('colab-df-spinner');\n",
              "      quickchartButtonEl.classList.add('colab-df-quickchart-complete');\n",
              "    }\n",
              "    (() => {\n",
              "      let quickchartButtonEl =\n",
              "        document.querySelector('#df-fb3a7e29-5ade-4a47-8d05-17b2fb653636 button');\n",
              "      quickchartButtonEl.style.display =\n",
              "        google.colab.kernel.accessAllowed ? 'block' : 'none';\n",
              "    })();\n",
              "  </script>\n",
              "</div>\n",
              "\n",
              "    </div>\n",
              "  </div>\n"
            ],
            "application/vnd.google.colaboratory.intrinsic+json": {
              "type": "dataframe",
              "variable_name": "data",
              "summary": "{\n  \"name\": \"data\",\n  \"rows\": 100,\n  \"fields\": [\n    {\n      \"column\": \"Cliente\",\n      \"properties\": {\n        \"dtype\": \"string\",\n        \"num_unique_values\": 100,\n        \"samples\": [\n          \"Cliente 84\",\n          \"Cliente 54\",\n          \"Cliente 71\"\n        ],\n        \"semantic_type\": \"\",\n        \"description\": \"\"\n      }\n    },\n    {\n      \"column\": \"Qtd de vasilhames P 13\",\n      \"properties\": {\n        \"dtype\": \"number\",\n        \"std\": 217,\n        \"min\": 51,\n        \"max\": 798,\n        \"num_unique_values\": 96,\n        \"samples\": [\n          776,\n          319,\n          779\n        ],\n        \"semantic_type\": \"\",\n        \"description\": \"\"\n      }\n    },\n    {\n      \"column\": \"Qtd P 45\",\n      \"properties\": {\n        \"dtype\": \"number\",\n        \"std\": 14,\n        \"min\": 0,\n        \"max\": 48,\n        \"num_unique_values\": 41,\n        \"samples\": [\n          26,\n          41,\n          10\n        ],\n        \"semantic_type\": \"\",\n        \"description\": \"\"\n      }\n    },\n    {\n      \"column\": \"Qtd  P 20\",\n      \"properties\": {\n        \"dtype\": \"number\",\n        \"std\": 9,\n        \"min\": 0,\n        \"max\": 29,\n        \"num_unique_values\": 28,\n        \"samples\": [\n          19,\n          7,\n          8\n        ],\n        \"semantic_type\": \"\",\n        \"description\": \"\"\n      }\n    },\n    {\n      \"column\": \"Intervalo de horas\",\n      \"properties\": {\n        \"dtype\": \"number\",\n        \"std\": 0.23057921270863369,\n        \"min\": 0.328,\n        \"max\": 1.294,\n        \"num_unique_values\": 93,\n        \"samples\": [\n          1.002,\n          0.7230000000000001,\n          0.819\n        ],\n        \"semantic_type\": \"\",\n        \"description\": \"\"\n      }\n    }\n  ]\n}"
            }
          },
          "metadata": {},
          "execution_count": 4
        }
      ]
    },
    {
      "cell_type": "markdown",
      "source": [
        "### 4.2 Definindo o dataset\n",
        "\n",
        "Os dados estão organizados nas seguintes colunas: **Cliente**, **Qtd de vasilhames P13**, **Qtd de vasilhames P45**, **Qtd de vasilhames P20** e **Intervalo de horas**. As colunas que possuem \"Qtd\" referem-se à quantidade de vasilhames dos tipos P13, P45 e P20. A coluna \"Cliente\" contém o nome dos clientes, e a coluna \"Intervalo de horas\" representa o tempo estimado, em horas, que o caminhão permanece na base. É importante observar que o \"Intervalo de horas\" está expresso em uma escala de 0 a 1, o que corresponde a um intervalo de 0 a 60 minutos. Portanto, um valor de 0,5, por exemplo, equivale a 30 minutos."
      ],
      "metadata": {
        "id": "U_2tjvkHK_Lc"
      }
    },
    {
      "cell_type": "markdown",
      "source": [
        "# 5. Análise de dados"
      ],
      "metadata": {
        "id": "68U1qn8AJ0FM"
      }
    },
    {
      "cell_type": "markdown",
      "source": [
        "### 5.1. Estatísticas Descritivas\n",
        "\n",
        "Vamos iniciar examinando as dimensões do dataset, suas informações e alguns exemplos de linhas.\n",
        "\n",
        "Neste ponto temos dados com 5 colunas e 500 linhas.\n",
        "\n",
        "Os dados de intervalo de tempo estão numérico sendo o resultado de: ((Valor)/60)/24.\n",
        "Estes é o formato de número do excel para minutos"
      ],
      "metadata": {
        "id": "8pimtu1BJbcY"
      }
    },
    {
      "cell_type": "code",
      "source": [
        "# Mostra as dimensões do dataset\n",
        "print(data.shape)"
      ],
      "metadata": {
        "colab": {
          "base_uri": "https://localhost:8080/"
        },
        "id": "2PNSFNdOJ-pi",
        "outputId": "eb981685-a390-4ad4-83c5-6aad7f9d578d"
      },
      "execution_count": 5,
      "outputs": [
        {
          "output_type": "stream",
          "name": "stdout",
          "text": [
            "(100, 5)\n"
          ]
        }
      ]
    },
    {
      "cell_type": "code",
      "source": [
        "# Mostra as informações do dataset\n",
        "print(data.info())"
      ],
      "metadata": {
        "colab": {
          "base_uri": "https://localhost:8080/"
        },
        "id": "wtDyYyA5KCND",
        "outputId": "05d7440b-bdcb-4bb9-e696-8a83c703af25"
      },
      "execution_count": 6,
      "outputs": [
        {
          "output_type": "stream",
          "name": "stdout",
          "text": [
            "<class 'pandas.core.frame.DataFrame'>\n",
            "RangeIndex: 100 entries, 0 to 99\n",
            "Data columns (total 5 columns):\n",
            " #   Column                  Non-Null Count  Dtype  \n",
            "---  ------                  --------------  -----  \n",
            " 0   Cliente                 100 non-null    object \n",
            " 1   Qtd de vasilhames P 13  100 non-null    int64  \n",
            " 2   Qtd P 45                100 non-null    int64  \n",
            " 3   Qtd  P 20               100 non-null    int64  \n",
            " 4   Intervalo de horas      100 non-null    float64\n",
            "dtypes: float64(1), int64(3), object(1)\n",
            "memory usage: 4.0+ KB\n",
            "None\n"
          ]
        }
      ]
    },
    {
      "cell_type": "code",
      "source": [
        "# Mostra as 10 primeiras linhas do dataset\n",
        "data.head(10)"
      ],
      "metadata": {
        "colab": {
          "base_uri": "https://localhost:8080/",
          "height": 363
        },
        "id": "VRrjG0-PKJaf",
        "outputId": "2d71da61-5faa-4382-9ca6-60789b7bf7f0"
      },
      "execution_count": 7,
      "outputs": [
        {
          "output_type": "execute_result",
          "data": {
            "text/plain": [
              "      Cliente  Qtd de vasilhames P 13  Qtd P 45  Qtd  P 20  Intervalo de horas\n",
              "0   Cliente 1                     152        44          0               0.572\n",
              "1   Cliente 2                     485         0         18               0.775\n",
              "2   Cliente 3                     320        24          9               0.685\n",
              "3   Cliente 4                     156         6         11               0.441\n",
              "4   Cliente 5                     121         8         23               0.476\n",
              "5   Cliente 6                     750        23         14               1.135\n",
              "6   Cliente 7                      70         0         26               0.400\n",
              "7   Cliente 8                     664        43         21               1.184\n",
              "8   Cliente 9                     171         7         23               0.521\n",
              "9  Cliente 10                     516        23          8               0.871"
            ],
            "text/html": [
              "\n",
              "  <div id=\"df-1e3c0782-b104-499c-8a1c-4655cf6d0ca5\" class=\"colab-df-container\">\n",
              "    <div>\n",
              "<style scoped>\n",
              "    .dataframe tbody tr th:only-of-type {\n",
              "        vertical-align: middle;\n",
              "    }\n",
              "\n",
              "    .dataframe tbody tr th {\n",
              "        vertical-align: top;\n",
              "    }\n",
              "\n",
              "    .dataframe thead th {\n",
              "        text-align: right;\n",
              "    }\n",
              "</style>\n",
              "<table border=\"1\" class=\"dataframe\">\n",
              "  <thead>\n",
              "    <tr style=\"text-align: right;\">\n",
              "      <th></th>\n",
              "      <th>Cliente</th>\n",
              "      <th>Qtd de vasilhames P 13</th>\n",
              "      <th>Qtd P 45</th>\n",
              "      <th>Qtd  P 20</th>\n",
              "      <th>Intervalo de horas</th>\n",
              "    </tr>\n",
              "  </thead>\n",
              "  <tbody>\n",
              "    <tr>\n",
              "      <th>0</th>\n",
              "      <td>Cliente 1</td>\n",
              "      <td>152</td>\n",
              "      <td>44</td>\n",
              "      <td>0</td>\n",
              "      <td>0.572</td>\n",
              "    </tr>\n",
              "    <tr>\n",
              "      <th>1</th>\n",
              "      <td>Cliente 2</td>\n",
              "      <td>485</td>\n",
              "      <td>0</td>\n",
              "      <td>18</td>\n",
              "      <td>0.775</td>\n",
              "    </tr>\n",
              "    <tr>\n",
              "      <th>2</th>\n",
              "      <td>Cliente 3</td>\n",
              "      <td>320</td>\n",
              "      <td>24</td>\n",
              "      <td>9</td>\n",
              "      <td>0.685</td>\n",
              "    </tr>\n",
              "    <tr>\n",
              "      <th>3</th>\n",
              "      <td>Cliente 4</td>\n",
              "      <td>156</td>\n",
              "      <td>6</td>\n",
              "      <td>11</td>\n",
              "      <td>0.441</td>\n",
              "    </tr>\n",
              "    <tr>\n",
              "      <th>4</th>\n",
              "      <td>Cliente 5</td>\n",
              "      <td>121</td>\n",
              "      <td>8</td>\n",
              "      <td>23</td>\n",
              "      <td>0.476</td>\n",
              "    </tr>\n",
              "    <tr>\n",
              "      <th>5</th>\n",
              "      <td>Cliente 6</td>\n",
              "      <td>750</td>\n",
              "      <td>23</td>\n",
              "      <td>14</td>\n",
              "      <td>1.135</td>\n",
              "    </tr>\n",
              "    <tr>\n",
              "      <th>6</th>\n",
              "      <td>Cliente 7</td>\n",
              "      <td>70</td>\n",
              "      <td>0</td>\n",
              "      <td>26</td>\n",
              "      <td>0.400</td>\n",
              "    </tr>\n",
              "    <tr>\n",
              "      <th>7</th>\n",
              "      <td>Cliente 8</td>\n",
              "      <td>664</td>\n",
              "      <td>43</td>\n",
              "      <td>21</td>\n",
              "      <td>1.184</td>\n",
              "    </tr>\n",
              "    <tr>\n",
              "      <th>8</th>\n",
              "      <td>Cliente 9</td>\n",
              "      <td>171</td>\n",
              "      <td>7</td>\n",
              "      <td>23</td>\n",
              "      <td>0.521</td>\n",
              "    </tr>\n",
              "    <tr>\n",
              "      <th>9</th>\n",
              "      <td>Cliente 10</td>\n",
              "      <td>516</td>\n",
              "      <td>23</td>\n",
              "      <td>8</td>\n",
              "      <td>0.871</td>\n",
              "    </tr>\n",
              "  </tbody>\n",
              "</table>\n",
              "</div>\n",
              "    <div class=\"colab-df-buttons\">\n",
              "\n",
              "  <div class=\"colab-df-container\">\n",
              "    <button class=\"colab-df-convert\" onclick=\"convertToInteractive('df-1e3c0782-b104-499c-8a1c-4655cf6d0ca5')\"\n",
              "            title=\"Convert this dataframe to an interactive table.\"\n",
              "            style=\"display:none;\">\n",
              "\n",
              "  <svg xmlns=\"http://www.w3.org/2000/svg\" height=\"24px\" viewBox=\"0 -960 960 960\">\n",
              "    <path d=\"M120-120v-720h720v720H120Zm60-500h600v-160H180v160Zm220 220h160v-160H400v160Zm0 220h160v-160H400v160ZM180-400h160v-160H180v160Zm440 0h160v-160H620v160ZM180-180h160v-160H180v160Zm440 0h160v-160H620v160Z\"/>\n",
              "  </svg>\n",
              "    </button>\n",
              "\n",
              "  <style>\n",
              "    .colab-df-container {\n",
              "      display:flex;\n",
              "      gap: 12px;\n",
              "    }\n",
              "\n",
              "    .colab-df-convert {\n",
              "      background-color: #E8F0FE;\n",
              "      border: none;\n",
              "      border-radius: 50%;\n",
              "      cursor: pointer;\n",
              "      display: none;\n",
              "      fill: #1967D2;\n",
              "      height: 32px;\n",
              "      padding: 0 0 0 0;\n",
              "      width: 32px;\n",
              "    }\n",
              "\n",
              "    .colab-df-convert:hover {\n",
              "      background-color: #E2EBFA;\n",
              "      box-shadow: 0px 1px 2px rgba(60, 64, 67, 0.3), 0px 1px 3px 1px rgba(60, 64, 67, 0.15);\n",
              "      fill: #174EA6;\n",
              "    }\n",
              "\n",
              "    .colab-df-buttons div {\n",
              "      margin-bottom: 4px;\n",
              "    }\n",
              "\n",
              "    [theme=dark] .colab-df-convert {\n",
              "      background-color: #3B4455;\n",
              "      fill: #D2E3FC;\n",
              "    }\n",
              "\n",
              "    [theme=dark] .colab-df-convert:hover {\n",
              "      background-color: #434B5C;\n",
              "      box-shadow: 0px 1px 3px 1px rgba(0, 0, 0, 0.15);\n",
              "      filter: drop-shadow(0px 1px 2px rgba(0, 0, 0, 0.3));\n",
              "      fill: #FFFFFF;\n",
              "    }\n",
              "  </style>\n",
              "\n",
              "    <script>\n",
              "      const buttonEl =\n",
              "        document.querySelector('#df-1e3c0782-b104-499c-8a1c-4655cf6d0ca5 button.colab-df-convert');\n",
              "      buttonEl.style.display =\n",
              "        google.colab.kernel.accessAllowed ? 'block' : 'none';\n",
              "\n",
              "      async function convertToInteractive(key) {\n",
              "        const element = document.querySelector('#df-1e3c0782-b104-499c-8a1c-4655cf6d0ca5');\n",
              "        const dataTable =\n",
              "          await google.colab.kernel.invokeFunction('convertToInteractive',\n",
              "                                                    [key], {});\n",
              "        if (!dataTable) return;\n",
              "\n",
              "        const docLinkHtml = 'Like what you see? Visit the ' +\n",
              "          '<a target=\"_blank\" href=https://colab.research.google.com/notebooks/data_table.ipynb>data table notebook</a>'\n",
              "          + ' to learn more about interactive tables.';\n",
              "        element.innerHTML = '';\n",
              "        dataTable['output_type'] = 'display_data';\n",
              "        await google.colab.output.renderOutput(dataTable, element);\n",
              "        const docLink = document.createElement('div');\n",
              "        docLink.innerHTML = docLinkHtml;\n",
              "        element.appendChild(docLink);\n",
              "      }\n",
              "    </script>\n",
              "  </div>\n",
              "\n",
              "\n",
              "<div id=\"df-55610b18-a035-4136-80c2-2b68e21365cb\">\n",
              "  <button class=\"colab-df-quickchart\" onclick=\"quickchart('df-55610b18-a035-4136-80c2-2b68e21365cb')\"\n",
              "            title=\"Suggest charts\"\n",
              "            style=\"display:none;\">\n",
              "\n",
              "<svg xmlns=\"http://www.w3.org/2000/svg\" height=\"24px\"viewBox=\"0 0 24 24\"\n",
              "     width=\"24px\">\n",
              "    <g>\n",
              "        <path d=\"M19 3H5c-1.1 0-2 .9-2 2v14c0 1.1.9 2 2 2h14c1.1 0 2-.9 2-2V5c0-1.1-.9-2-2-2zM9 17H7v-7h2v7zm4 0h-2V7h2v10zm4 0h-2v-4h2v4z\"/>\n",
              "    </g>\n",
              "</svg>\n",
              "  </button>\n",
              "\n",
              "<style>\n",
              "  .colab-df-quickchart {\n",
              "      --bg-color: #E8F0FE;\n",
              "      --fill-color: #1967D2;\n",
              "      --hover-bg-color: #E2EBFA;\n",
              "      --hover-fill-color: #174EA6;\n",
              "      --disabled-fill-color: #AAA;\n",
              "      --disabled-bg-color: #DDD;\n",
              "  }\n",
              "\n",
              "  [theme=dark] .colab-df-quickchart {\n",
              "      --bg-color: #3B4455;\n",
              "      --fill-color: #D2E3FC;\n",
              "      --hover-bg-color: #434B5C;\n",
              "      --hover-fill-color: #FFFFFF;\n",
              "      --disabled-bg-color: #3B4455;\n",
              "      --disabled-fill-color: #666;\n",
              "  }\n",
              "\n",
              "  .colab-df-quickchart {\n",
              "    background-color: var(--bg-color);\n",
              "    border: none;\n",
              "    border-radius: 50%;\n",
              "    cursor: pointer;\n",
              "    display: none;\n",
              "    fill: var(--fill-color);\n",
              "    height: 32px;\n",
              "    padding: 0;\n",
              "    width: 32px;\n",
              "  }\n",
              "\n",
              "  .colab-df-quickchart:hover {\n",
              "    background-color: var(--hover-bg-color);\n",
              "    box-shadow: 0 1px 2px rgba(60, 64, 67, 0.3), 0 1px 3px 1px rgba(60, 64, 67, 0.15);\n",
              "    fill: var(--button-hover-fill-color);\n",
              "  }\n",
              "\n",
              "  .colab-df-quickchart-complete:disabled,\n",
              "  .colab-df-quickchart-complete:disabled:hover {\n",
              "    background-color: var(--disabled-bg-color);\n",
              "    fill: var(--disabled-fill-color);\n",
              "    box-shadow: none;\n",
              "  }\n",
              "\n",
              "  .colab-df-spinner {\n",
              "    border: 2px solid var(--fill-color);\n",
              "    border-color: transparent;\n",
              "    border-bottom-color: var(--fill-color);\n",
              "    animation:\n",
              "      spin 1s steps(1) infinite;\n",
              "  }\n",
              "\n",
              "  @keyframes spin {\n",
              "    0% {\n",
              "      border-color: transparent;\n",
              "      border-bottom-color: var(--fill-color);\n",
              "      border-left-color: var(--fill-color);\n",
              "    }\n",
              "    20% {\n",
              "      border-color: transparent;\n",
              "      border-left-color: var(--fill-color);\n",
              "      border-top-color: var(--fill-color);\n",
              "    }\n",
              "    30% {\n",
              "      border-color: transparent;\n",
              "      border-left-color: var(--fill-color);\n",
              "      border-top-color: var(--fill-color);\n",
              "      border-right-color: var(--fill-color);\n",
              "    }\n",
              "    40% {\n",
              "      border-color: transparent;\n",
              "      border-right-color: var(--fill-color);\n",
              "      border-top-color: var(--fill-color);\n",
              "    }\n",
              "    60% {\n",
              "      border-color: transparent;\n",
              "      border-right-color: var(--fill-color);\n",
              "    }\n",
              "    80% {\n",
              "      border-color: transparent;\n",
              "      border-right-color: var(--fill-color);\n",
              "      border-bottom-color: var(--fill-color);\n",
              "    }\n",
              "    90% {\n",
              "      border-color: transparent;\n",
              "      border-bottom-color: var(--fill-color);\n",
              "    }\n",
              "  }\n",
              "</style>\n",
              "\n",
              "  <script>\n",
              "    async function quickchart(key) {\n",
              "      const quickchartButtonEl =\n",
              "        document.querySelector('#' + key + ' button');\n",
              "      quickchartButtonEl.disabled = true;  // To prevent multiple clicks.\n",
              "      quickchartButtonEl.classList.add('colab-df-spinner');\n",
              "      try {\n",
              "        const charts = await google.colab.kernel.invokeFunction(\n",
              "            'suggestCharts', [key], {});\n",
              "      } catch (error) {\n",
              "        console.error('Error during call to suggestCharts:', error);\n",
              "      }\n",
              "      quickchartButtonEl.classList.remove('colab-df-spinner');\n",
              "      quickchartButtonEl.classList.add('colab-df-quickchart-complete');\n",
              "    }\n",
              "    (() => {\n",
              "      let quickchartButtonEl =\n",
              "        document.querySelector('#df-55610b18-a035-4136-80c2-2b68e21365cb button');\n",
              "      quickchartButtonEl.style.display =\n",
              "        google.colab.kernel.accessAllowed ? 'block' : 'none';\n",
              "    })();\n",
              "  </script>\n",
              "</div>\n",
              "\n",
              "    </div>\n",
              "  </div>\n"
            ],
            "application/vnd.google.colaboratory.intrinsic+json": {
              "type": "dataframe",
              "variable_name": "data",
              "summary": "{\n  \"name\": \"data\",\n  \"rows\": 100,\n  \"fields\": [\n    {\n      \"column\": \"Cliente\",\n      \"properties\": {\n        \"dtype\": \"string\",\n        \"num_unique_values\": 100,\n        \"samples\": [\n          \"Cliente 84\",\n          \"Cliente 54\",\n          \"Cliente 71\"\n        ],\n        \"semantic_type\": \"\",\n        \"description\": \"\"\n      }\n    },\n    {\n      \"column\": \"Qtd de vasilhames P 13\",\n      \"properties\": {\n        \"dtype\": \"number\",\n        \"std\": 217,\n        \"min\": 51,\n        \"max\": 798,\n        \"num_unique_values\": 96,\n        \"samples\": [\n          776,\n          319,\n          779\n        ],\n        \"semantic_type\": \"\",\n        \"description\": \"\"\n      }\n    },\n    {\n      \"column\": \"Qtd P 45\",\n      \"properties\": {\n        \"dtype\": \"number\",\n        \"std\": 14,\n        \"min\": 0,\n        \"max\": 48,\n        \"num_unique_values\": 41,\n        \"samples\": [\n          26,\n          41,\n          10\n        ],\n        \"semantic_type\": \"\",\n        \"description\": \"\"\n      }\n    },\n    {\n      \"column\": \"Qtd  P 20\",\n      \"properties\": {\n        \"dtype\": \"number\",\n        \"std\": 9,\n        \"min\": 0,\n        \"max\": 29,\n        \"num_unique_values\": 28,\n        \"samples\": [\n          19,\n          7,\n          8\n        ],\n        \"semantic_type\": \"\",\n        \"description\": \"\"\n      }\n    },\n    {\n      \"column\": \"Intervalo de horas\",\n      \"properties\": {\n        \"dtype\": \"number\",\n        \"std\": 0.23057921270863369,\n        \"min\": 0.328,\n        \"max\": 1.294,\n        \"num_unique_values\": 93,\n        \"samples\": [\n          1.002,\n          0.7230000000000001,\n          0.819\n        ],\n        \"semantic_type\": \"\",\n        \"description\": \"\"\n      }\n    }\n  ]\n}"
            }
          },
          "metadata": {},
          "execution_count": 7
        }
      ]
    },
    {
      "cell_type": "markdown",
      "source": [
        "### 5.2 Tipos de dados e possíveis erros\n",
        "\n",
        "Visualizando os dados, fica nítido que as colunas, \"Qtd de vasilhames P 13\",\t\"Qtd P 45\" e\t\"Qtd P 20\" possuem números inteiros e a \"Intervalo de horas\", possui números decimais como antes citado.\n",
        "Além disso, a coluna \"Cliente\" é composta por texto.\n",
        "\n",
        "Analisando as primeiras linhas, não são visíveis erros evidentes, e os dados parecem estar organizados conforme esperado."
      ],
      "metadata": {
        "id": "2iPeL4ZdNP29"
      }
    },
    {
      "cell_type": "markdown",
      "source": [
        "### 5.3 Resumo estatístico\n"
      ],
      "metadata": {
        "id": "cb4diK39PuC0"
      }
    },
    {
      "cell_type": "markdown",
      "source": [
        "* Dados"
      ],
      "metadata": {
        "id": "Db_e4Id-Q8ZD"
      }
    },
    {
      "cell_type": "code",
      "source": [
        "# Carregar o dataset diretamente da URL\n",
        "df = pd.read_csv(url)\n",
        "\n",
        "# Selecionar apenas as colunas numéricas\n",
        "dados_numericos = df.select_dtypes(include=['float64', 'int64'])\n",
        "\n",
        "# Função personalizada para calcular a moda\n",
        "def calcular_moda(coluna):\n",
        "    return coluna.mode().iloc[0] if not coluna.mode().empty else None\n",
        "\n",
        "# Gerar o resumo estatístico\n",
        "resumo = dados_numericos.describe().T  # .T para transpor o resultado\n",
        "resumo['mediana'] = dados_numericos.median()\n",
        "resumo['moda'] = dados_numericos.apply(calcular_moda)\n",
        "resumo['desvio-padrão'] = dados_numericos.std()\n",
        "resumo['valores_ausentes'] = dados_numericos.isnull().sum()\n",
        "\n",
        "# Exibir o resumo estatístico completo\n",
        "print(resumo[['min', 'max', 'mean', '50%', 'moda', 'desvio-padrão', 'valores_ausentes']])\n"
      ],
      "metadata": {
        "colab": {
          "base_uri": "https://localhost:8080/"
        },
        "id": "IQR5aNRsPMwV",
        "outputId": "229232a9-3331-4483-a602-4d774c776433"
      },
      "execution_count": 38,
      "outputs": [
        {
          "output_type": "stream",
          "name": "stdout",
          "text": [
            "                           min      max       mean      50%    moda  \\\n",
            "Qtd de vasilhames P 13  51.000  798.000  408.98000  405.500  70.000   \n",
            "Qtd P 45                 0.000   48.000   23.80000   26.000  38.000   \n",
            "Qtd P 20                 0.000   29.000   14.58000   16.000  16.000   \n",
            "Intervalo de horas       0.328    1.294    0.80088    0.782   0.521   \n",
            "\n",
            "                        desvio-padrão  valores_ausentes  \n",
            "Qtd de vasilhames P 13     217.789259                 0  \n",
            "Qtd P 45                    14.292754                 0  \n",
            "Qtd P 20                     9.249821                 0  \n",
            "Intervalo de horas           0.230579                 0  \n"
          ]
        }
      ]
    },
    {
      "cell_type": "markdown",
      "source": [
        "* Visualizações"
      ],
      "metadata": {
        "id": "9m6HozsLQ_WM"
      }
    },
    {
      "cell_type": "code",
      "source": [
        "# Histograma para visualizar a distribuição de cada atributo numérico\n",
        "plt.figure(figsize=(12, 8))\n",
        "\n",
        "# Subplot 1 - Qtd de vasilhames P13\n",
        "plt.subplot(2, 2, 1)\n",
        "sns.histplot(df['Qtd de vasilhames P 13'], bins=20, kde=True)\n",
        "plt.title('Distribuição - Qtd de vasilhames P13')\n",
        "\n",
        "# Subplot 2 - Qtd P45\n",
        "plt.subplot(2, 2, 2)\n",
        "sns.histplot(df['Qtd P 45'], bins=20, kde=True)\n",
        "plt.title('Distribuição - Qtd P45')\n",
        "\n",
        "# Subplot 3 - Qtd P20\n",
        "plt.subplot(2, 2, 3)\n",
        "sns.histplot(df['Qtd P 20'], bins=20, kde=True)\n",
        "plt.title('Distribuição - Qtd P20')\n",
        "\n",
        "# Subplot 4 - Intervalo de horas\n",
        "plt.subplot(2, 2, 4)\n",
        "sns.histplot(df['Intervalo de horas'], bins=20, kde=True)\n",
        "plt.title('Distribuição - Intervalo de horas')\n",
        "\n",
        "plt.tight_layout()\n",
        "plt.show()\n",
        "\n",
        "# Gráfico de dispersão para ver a relação entre número de vasilhames e intervalo de horas\n",
        "plt.figure(figsize=(8, 6))\n",
        "sns.scatterplot(x=df['Qtd de vasilhames P 13'], y=df['Intervalo de horas'], label='P13')\n",
        "sns.scatterplot(x=df['Qtd P 45'], y=df['Intervalo de horas'], label='P45')\n",
        "sns.scatterplot(x=df['Qtd P 20'], y=df['Intervalo de horas'], label='P20')\n",
        "plt.title('Relação entre Quantidade de Vasilhames e Intervalo de Horas')\n",
        "plt.xlabel('Quantidade de Vasilhames')\n",
        "plt.ylabel('Intervalo de Horas')\n",
        "plt.legend()\n",
        "plt.show()\n"
      ],
      "metadata": {
        "colab": {
          "base_uri": "https://localhost:8080/",
          "height": 1000
        },
        "id": "EVUoVzb0Q6pc",
        "outputId": "1296f09d-779a-49ea-9fc1-36c51197cebe"
      },
      "execution_count": 39,
      "outputs": [
        {
          "output_type": "display_data",
          "data": {
            "text/plain": [
              "<Figure size 1200x800 with 4 Axes>"
            ],
            "image/png": "[encoded data removed]"
          },
          "metadata": {}
        },
        {
          "output_type": "display_data",
          "data": {
            "text/plain": [
              "<Figure size 800x600 with 1 Axes>"
            ],
            "image/png": "[encoded data removed]"
          },
          "metadata": {}
        }
      ]
    },
    {
      "cell_type": "markdown",
      "source": [
        "### 5.4 Análise do resumo estatístico\n",
        "\n",
        " **Dados**\n",
        "\n",
        "*   A **Qtd de vasilhames P13** apresenta a maior variabilidade, variando de 51 a 798, com uma média de 408,98 e um desvio-padrão de 217,79, sugerindo uma ampla dispersão entre os valores. Resultado esperado, pois é o produto com maior saída e venda na engarrafadora.\n",
        "*   A **Qtd P45** e **Qtd P20** têm distribuições mais concentradas, com valores médios de 23,8 e 14,58, respectivamente, e modas relativamente próximas das medianas, indicando maior consistência. Resultado também esperado, pois estes produtos são geralmente vendidos para os mesmo clientes com mesmas quantidades.\n",
        "*   O **Intervalo de horas** varia de 0,33 a 1,29 horas (20 a 78 minutos), com uma média de 48 minutos e desvio-padrão de 0,23, apontando tempos de permanência relativamente uniformes.\n",
        "*  Não há valores ausentes em nenhum atributo numérico.\n",
        "\n",
        "**Visualizações**\n",
        "\n",
        "* Pelos histogramas vemos que os dados de P13 e de horas seguem uma distribuição normal. Por outro lado os de P 45 e P 20 estão com dois picos (Dissimétrica com dois picos) o que alguns dados podem ter sido misturados no processo, ou estarem abordando coisas diferentes.\n",
        "* Em relação ao gráfico de distribuição, fica claro que o tempo de permanência é principalmente influenciado pela quantidade de P13 acima de P 20 e P 45.\n"
      ],
      "metadata": {
        "id": "by4julDXP0rT"
      }
    },
    {
      "cell_type": "markdown",
      "source": [
        "# 6. Preparação dos dados\n"
      ],
      "metadata": {
        "id": "4-GFCqJZTJm1"
      }
    },
    {
      "cell_type": "markdown",
      "source": [
        "### 6.1 Normalização logarítmica para as colunas P 20 e P 45"
      ],
      "metadata": {
        "id": "jYyrStbVUReT"
      }
    },
    {
      "cell_type": "code",
      "source": [
        "# Aplicando transformação logarítmica\n",
        "df['Qtd P 45 Log'] = np.log1p(df['Qtd P 45'])\n",
        "df['Qtd P 20 Log'] = np.log1p(df['Qtd P 20'])"
      ],
      "metadata": {
        "id": "NOfIzIIRTI4b"
      },
      "execution_count": 48,
      "outputs": []
    },
    {
      "cell_type": "markdown",
      "source": [
        "* Foi realizada a normalização para estas colunas, pois conforme demonstrado pelos seus respectivos histogramas, estas não seguiam uma distribuição normal com somente um pico\n"
      ],
      "metadata": {
        "id": "ikcHn9KXU8N7"
      }
    },
    {
      "cell_type": "code",
      "source": [
        "# Criar histogramas para as colunas normalizadas após transformação logarítmica\n",
        "plt.figure(figsize=(12, 6))\n",
        "\n",
        "# Histograma para 'Qtd P 45'\n",
        "plt.subplot(1, 2, 1)\n",
        "plt.hist(df['Qtd P 45'], bins=30, color='skyblue', edgecolor='black')\n",
        "plt.title('Histograma de Qtd P 45 Após Transformação Logarítmica e Normalização')\n",
        "plt.xlabel('Qtd P 45 Normalizada')\n",
        "plt.ylabel('Frequência')\n",
        "\n",
        "# Histograma para 'Qtd P 20'\n",
        "plt.subplot(1, 2, 2)\n",
        "plt.hist(df['Qtd P 20'], bins=30, color='salmon', edgecolor='black')\n",
        "plt.title('Histograma de Qtd P 20 Após Transformação Logarítmica e Normalização')\n",
        "plt.xlabel('Qtd P 20 Normalizada')\n",
        "plt.ylabel('Frequência')\n",
        "\n",
        "plt.tight_layout()\n",
        "plt.show()"
      ],
      "metadata": {
        "colab": {
          "base_uri": "https://localhost:8080/",
          "height": 607
        },
        "id": "WauCvJb0Vuo8",
        "outputId": "9657c3c0-8b6e-41f5-e615-52586ae5fb8f"
      },
      "execution_count": 49,
      "outputs": [
        {
          "output_type": "display_data",
          "data": {
            "text/plain": [
              "<Figure size 1200x600 with 2 Axes>"
            ],
            "image/png": "[encoded data removed]"
          },
          "metadata": {}
        }
      ]
    },
    {
      "cell_type": "markdown",
      "source": [
        "* Não se chegou a um ponto perfeito, mas com os dados disponíveis é o melhor a se chegar, fica como proposta a utilização de outros dados futuramente para testes e avaliação se o número de **P 45** e **P 20** realmente influenciam no tempo de permanência"
      ],
      "metadata": {
        "id": "HlUJnXCvUgD7"
      }
    },
    {
      "cell_type": "markdown",
      "source": [
        "### 6.2 Separando os dados em teste e treino"
      ],
      "metadata": {
        "id": "FiZRw82NY8Y8"
      }
    },
    {
      "cell_type": "code",
      "source": [
        "# Selecionando as características e a variável alvo\n",
        "X = data[['Qtd de vasilhames P 13', 'Qtd P 45','Qtd  P 20']]\n",
        "y = data['Intervalo de horas']\n",
        "\n",
        "# Divida os dados em conjuntos de treinamento e teste\n",
        "X_train, X_test, y_train, y_test = train_test_split(X, y, test_size=0.2, random_state=42)\n"
      ],
      "metadata": {
        "id": "agf1fN7OZE9D"
      },
      "execution_count": 50,
      "outputs": []
    },
    {
      "cell_type": "markdown",
      "source": [
        "# 7. Implementando e testando o algorítimo de regressão linear"
      ],
      "metadata": {
        "id": "I5GWY8P-FtdE"
      }
    },
    {
      "cell_type": "markdown",
      "source": [
        "### 7.1 Criando o modelo de regressão e treinando"
      ],
      "metadata": {
        "id": "C3ah_8moGjsJ"
      }
    },
    {
      "cell_type": "code",
      "source": [
        "# Crie e treine o modelo\n",
        "model = LinearRegression()\n",
        "model.fit(X_train, y_train)"
      ],
      "metadata": {
        "colab": {
          "base_uri": "https://localhost:8080/",
          "height": 80
        },
        "id": "cPnTZJy_GunU",
        "outputId": "fa5bc71e-4774-42aa-93d9-5c180aa09c43"
      },
      "execution_count": 52,
      "outputs": [
        {
          "output_type": "execute_result",
          "data": {
            "text/plain": [
              "LinearRegression()"
            ],
            "text/html": [
              "<style>#sk-container-id-2 {\n",
              "  /* Definition of color scheme common for light and dark mode */\n",
              "  --sklearn-color-text: black;\n",
              "  --sklearn-color-line: gray;\n",
              "  /* Definition of color scheme for unfitted estimators */\n",
              "  --sklearn-color-unfitted-level-0: #fff5e6;\n",
              "  --sklearn-color-unfitted-level-1: #f6e4d2;\n",
              "  --sklearn-color-unfitted-level-2: #ffe0b3;\n",
              "  --sklearn-color-unfitted-level-3: chocolate;\n",
              "  /* Definition of color scheme for fitted estimators */\n",
              "  --sklearn-color-fitted-level-0: #f0f8ff;\n",
              "  --sklearn-color-fitted-level-1: #d4ebff;\n",
              "  --sklearn-color-fitted-level-2: #b3dbfd;\n",
              "  --sklearn-color-fitted-level-3: cornflowerblue;\n",
              "\n",
              "  /* Specific color for light theme */\n",
              "  --sklearn-color-text-on-default-background: var(--sg-text-color, var(--theme-code-foreground, var(--jp-content-font-color1, black)));\n",
              "  --sklearn-color-background: var(--sg-background-color, var(--theme-background, var(--jp-layout-color0, white)));\n",
              "  --sklearn-color-border-box: var(--sg-text-color, var(--theme-code-foreground, var(--jp-content-font-color1, black)));\n",
              "  --sklearn-color-icon: #696969;\n",
              "\n",
              "  @media (prefers-color-scheme: dark) {\n",
              "    /* Redefinition of color scheme for dark theme */\n",
              "    --sklearn-color-text-on-default-background: var(--sg-text-color, var(--theme-code-foreground, var(--jp-content-font-color1, white)));\n",
              "    --sklearn-color-background: var(--sg-background-color, var(--theme-background, var(--jp-layout-color0, #111)));\n",
              "    --sklearn-color-border-box: var(--sg-text-color, var(--theme-code-foreground, var(--jp-content-font-color1, white)));\n",
              "    --sklearn-color-icon: #878787;\n",
              "  }\n",
              "}\n",
              "\n",
              "#sk-container-id-2 {\n",
              "  color: var(--sklearn-color-text);\n",
              "}\n",
              "\n",
              "#sk-container-id-2 pre {\n",
              "  padding: 0;\n",
              "}\n",
              "\n",
              "#sk-container-id-2 input.sk-hidden--visually {\n",
              "  border: 0;\n",
              "  clip: rect(1px 1px 1px 1px);\n",
              "  clip: rect(1px, 1px, 1px, 1px);\n",
              "  height: 1px;\n",
              "  margin: -1px;\n",
              "  overflow: hidden;\n",
              "  padding: 0;\n",
              "  position: absolute;\n",
              "  width: 1px;\n",
              "}\n",
              "\n",
              "#sk-container-id-2 div.sk-dashed-wrapped {\n",
              "  border: 1px dashed var(--sklearn-color-line);\n",
              "  margin: 0 0.4em 0.5em 0.4em;\n",
              "  box-sizing: border-box;\n",
              "  padding-bottom: 0.4em;\n",
              "  background-color: var(--sklearn-color-background);\n",
              "}\n",
              "\n",
              "#sk-container-id-2 div.sk-container {\n",
              "  /* jupyter's `normalize.less` sets `[hidden] { display: none; }`\n",
              "     but bootstrap.min.css set `[hidden] { display: none !important; }`\n",
              "     so we also need the `!important` here to be able to override the\n",
              "     default hidden behavior on the sphinx rendered scikit-learn.org.\n",
              "     See: https://github.com/scikit-learn/scikit-learn/issues/21755 */\n",
              "  display: inline-block !important;\n",
              "  position: relative;\n",
              "}\n",
              "\n",
              "#sk-container-id-2 div.sk-text-repr-fallback {\n",
              "  display: none;\n",
              "}\n",
              "\n",
              "div.sk-parallel-item,\n",
              "div.sk-serial,\n",
              "div.sk-item {\n",
              "  /* draw centered vertical line to link estimators */\n",
              "  background-image: linear-gradient(var(--sklearn-color-text-on-default-background), var(--sklearn-color-text-on-default-background));\n",
              "  background-size: 2px 100%;\n",
              "  background-repeat: no-repeat;\n",
              "  background-position: center center;\n",
              "}\n",
              "\n",
              "/* Parallel-specific style estimator block */\n",
              "\n",
              "#sk-container-id-2 div.sk-parallel-item::after {\n",
              "  content: \"\";\n",
              "  width: 100%;\n",
              "  border-bottom: 2px solid var(--sklearn-color-text-on-default-background);\n",
              "  flex-grow: 1;\n",
              "}\n",
              "\n",
              "#sk-container-id-2 div.sk-parallel {\n",
              "  display: flex;\n",
              "  align-items: stretch;\n",
              "  justify-content: center;\n",
              "  background-color: var(--sklearn-color-background);\n",
              "  position: relative;\n",
              "}\n",
              "\n",
              "#sk-container-id-2 div.sk-parallel-item {\n",
              "  display: flex;\n",
              "  flex-direction: column;\n",
              "}\n",
              "\n",
              "#sk-container-id-2 div.sk-parallel-item:first-child::after {\n",
              "  align-self: flex-end;\n",
              "  width: 50%;\n",
              "}\n",
              "\n",
              "#sk-container-id-2 div.sk-parallel-item:last-child::after {\n",
              "  align-self: flex-start;\n",
              "  width: 50%;\n",
              "}\n",
              "\n",
              "#sk-container-id-2 div.sk-parallel-item:only-child::after {\n",
              "  width: 0;\n",
              "}\n",
              "\n",
              "/* Serial-specific style estimator block */\n",
              "\n",
              "#sk-container-id-2 div.sk-serial {\n",
              "  display: flex;\n",
              "  flex-direction: column;\n",
              "  align-items: center;\n",
              "  background-color: var(--sklearn-color-background);\n",
              "  padding-right: 1em;\n",
              "  padding-left: 1em;\n",
              "}\n",
              "\n",
              "\n",
              "/* Toggleable style: style used for estimator/Pipeline/ColumnTransformer box that is\n",
              "clickable and can be expanded/collapsed.\n",
              "- Pipeline and ColumnTransformer use this feature and define the default style\n",
              "- Estimators will overwrite some part of the style using the `sk-estimator` class\n",
              "*/\n",
              "\n",
              "/* Pipeline and ColumnTransformer style (default) */\n",
              "\n",
              "#sk-container-id-2 div.sk-toggleable {\n",
              "  /* Default theme specific background. It is overwritten whether we have a\n",
              "  specific estimator or a Pipeline/ColumnTransformer */\n",
              "  background-color: var(--sklearn-color-background);\n",
              "}\n",
              "\n",
              "/* Toggleable label */\n",
              "#sk-container-id-2 label.sk-toggleable__label {\n",
              "  cursor: pointer;\n",
              "  display: block;\n",
              "  width: 100%;\n",
              "  margin-bottom: 0;\n",
              "  padding: 0.5em;\n",
              "  box-sizing: border-box;\n",
              "  text-align: center;\n",
              "}\n",
              "\n",
              "#sk-container-id-2 label.sk-toggleable__label-arrow:before {\n",
              "  /* Arrow on the left of the label */\n",
              "  content: \"▸\";\n",
              "  float: left;\n",
              "  margin-right: 0.25em;\n",
              "  color: var(--sklearn-color-icon);\n",
              "}\n",
              "\n",
              "#sk-container-id-2 label.sk-toggleable__label-arrow:hover:before {\n",
              "  color: var(--sklearn-color-text);\n",
              "}\n",
              "\n",
              "/* Toggleable content - dropdown */\n",
              "\n",
              "#sk-container-id-2 div.sk-toggleable__content {\n",
              "  max-height: 0;\n",
              "  max-width: 0;\n",
              "  overflow: hidden;\n",
              "  text-align: left;\n",
              "  /* unfitted */\n",
              "  background-color: var(--sklearn-color-unfitted-level-0);\n",
              "}\n",
              "\n",
              "#sk-container-id-2 div.sk-toggleable__content.fitted {\n",
              "  /* fitted */\n",
              "  background-color: var(--sklearn-color-fitted-level-0);\n",
              "}\n",
              "\n",
              "#sk-container-id-2 div.sk-toggleable__content pre {\n",
              "  margin: 0.2em;\n",
              "  border-radius: 0.25em;\n",
              "  color: var(--sklearn-color-text);\n",
              "  /* unfitted */\n",
              "  background-color: var(--sklearn-color-unfitted-level-0);\n",
              "}\n",
              "\n",
              "#sk-container-id-2 div.sk-toggleable__content.fitted pre {\n",
              "  /* unfitted */\n",
              "  background-color: var(--sklearn-color-fitted-level-0);\n",
              "}\n",
              "\n",
              "#sk-container-id-2 input.sk-toggleable__control:checked~div.sk-toggleable__content {\n",
              "  /* Expand drop-down */\n",
              "  max-height: 200px;\n",
              "  max-width: 100%;\n",
              "  overflow: auto;\n",
              "}\n",
              "\n",
              "#sk-container-id-2 input.sk-toggleable__control:checked~label.sk-toggleable__label-arrow:before {\n",
              "  content: \"▾\";\n",
              "}\n",
              "\n",
              "/* Pipeline/ColumnTransformer-specific style */\n",
              "\n",
              "#sk-container-id-2 div.sk-label input.sk-toggleable__control:checked~label.sk-toggleable__label {\n",
              "  color: var(--sklearn-color-text);\n",
              "  background-color: var(--sklearn-color-unfitted-level-2);\n",
              "}\n",
              "\n",
              "#sk-container-id-2 div.sk-label.fitted input.sk-toggleable__control:checked~label.sk-toggleable__label {\n",
              "  background-color: var(--sklearn-color-fitted-level-2);\n",
              "}\n",
              "\n",
              "/* Estimator-specific style */\n",
              "\n",
              "/* Colorize estimator box */\n",
              "#sk-container-id-2 div.sk-estimator input.sk-toggleable__control:checked~label.sk-toggleable__label {\n",
              "  /* unfitted */\n",
              "  background-color: var(--sklearn-color-unfitted-level-2);\n",
              "}\n",
              "\n",
              "#sk-container-id-2 div.sk-estimator.fitted input.sk-toggleable__control:checked~label.sk-toggleable__label {\n",
              "  /* fitted */\n",
              "  background-color: var(--sklearn-color-fitted-level-2);\n",
              "}\n",
              "\n",
              "#sk-container-id-2 div.sk-label label.sk-toggleable__label,\n",
              "#sk-container-id-2 div.sk-label label {\n",
              "  /* The background is the default theme color */\n",
              "  color: var(--sklearn-color-text-on-default-background);\n",
              "}\n",
              "\n",
              "/* On hover, darken the color of the background */\n",
              "#sk-container-id-2 div.sk-label:hover label.sk-toggleable__label {\n",
              "  color: var(--sklearn-color-text);\n",
              "  background-color: var(--sklearn-color-unfitted-level-2);\n",
              "}\n",
              "\n",
              "/* Label box, darken color on hover, fitted */\n",
              "#sk-container-id-2 div.sk-label.fitted:hover label.sk-toggleable__label.fitted {\n",
              "  color: var(--sklearn-color-text);\n",
              "  background-color: var(--sklearn-color-fitted-level-2);\n",
              "}\n",
              "\n",
              "/* Estimator label */\n",
              "\n",
              "#sk-container-id-2 div.sk-label label {\n",
              "  font-family: monospace;\n",
              "  font-weight: bold;\n",
              "  display: inline-block;\n",
              "  line-height: 1.2em;\n",
              "}\n",
              "\n",
              "#sk-container-id-2 div.sk-label-container {\n",
              "  text-align: center;\n",
              "}\n",
              "\n",
              "/* Estimator-specific */\n",
              "#sk-container-id-2 div.sk-estimator {\n",
              "  font-family: monospace;\n",
              "  border: 1px dotted var(--sklearn-color-border-box);\n",
              "  border-radius: 0.25em;\n",
              "  box-sizing: border-box;\n",
              "  margin-bottom: 0.5em;\n",
              "  /* unfitted */\n",
              "  background-color: var(--sklearn-color-unfitted-level-0);\n",
              "}\n",
              "\n",
              "#sk-container-id-2 div.sk-estimator.fitted {\n",
              "  /* fitted */\n",
              "  background-color: var(--sklearn-color-fitted-level-0);\n",
              "}\n",
              "\n",
              "/* on hover */\n",
              "#sk-container-id-2 div.sk-estimator:hover {\n",
              "  /* unfitted */\n",
              "  background-color: var(--sklearn-color-unfitted-level-2);\n",
              "}\n",
              "\n",
              "#sk-container-id-2 div.sk-estimator.fitted:hover {\n",
              "  /* fitted */\n",
              "  background-color: var(--sklearn-color-fitted-level-2);\n",
              "}\n",
              "\n",
              "/* Specification for estimator info (e.g. \"i\" and \"?\") */\n",
              "\n",
              "/* Common style for \"i\" and \"?\" */\n",
              "\n",
              ".sk-estimator-doc-link,\n",
              "a:link.sk-estimator-doc-link,\n",
              "a:visited.sk-estimator-doc-link {\n",
              "  float: right;\n",
              "  font-size: smaller;\n",
              "  line-height: 1em;\n",
              "  font-family: monospace;\n",
              "  background-color: var(--sklearn-color-background);\n",
              "  border-radius: 1em;\n",
              "  height: 1em;\n",
              "  width: 1em;\n",
              "  text-decoration: none !important;\n",
              "  margin-left: 1ex;\n",
              "  /* unfitted */\n",
              "  border: var(--sklearn-color-unfitted-level-1) 1pt solid;\n",
              "  color: var(--sklearn-color-unfitted-level-1);\n",
              "}\n",
              "\n",
              ".sk-estimator-doc-link.fitted,\n",
              "a:link.sk-estimator-doc-link.fitted,\n",
              "a:visited.sk-estimator-doc-link.fitted {\n",
              "  /* fitted */\n",
              "  border: var(--sklearn-color-fitted-level-1) 1pt solid;\n",
              "  color: var(--sklearn-color-fitted-level-1);\n",
              "}\n",
              "\n",
              "/* On hover */\n",
              "div.sk-estimator:hover .sk-estimator-doc-link:hover,\n",
              ".sk-estimator-doc-link:hover,\n",
              "div.sk-label-container:hover .sk-estimator-doc-link:hover,\n",
              ".sk-estimator-doc-link:hover {\n",
              "  /* unfitted */\n",
              "  background-color: var(--sklearn-color-unfitted-level-3);\n",
              "  color: var(--sklearn-color-background);\n",
              "  text-decoration: none;\n",
              "}\n",
              "\n",
              "div.sk-estimator.fitted:hover .sk-estimator-doc-link.fitted:hover,\n",
              ".sk-estimator-doc-link.fitted:hover,\n",
              "div.sk-label-container:hover .sk-estimator-doc-link.fitted:hover,\n",
              ".sk-estimator-doc-link.fitted:hover {\n",
              "  /* fitted */\n",
              "  background-color: var(--sklearn-color-fitted-level-3);\n",
              "  color: var(--sklearn-color-background);\n",
              "  text-decoration: none;\n",
              "}\n",
              "\n",
              "/* Span, style for the box shown on hovering the info icon */\n",
              ".sk-estimator-doc-link span {\n",
              "  display: none;\n",
              "  z-index: 9999;\n",
              "  position: relative;\n",
              "  font-weight: normal;\n",
              "  right: .2ex;\n",
              "  padding: .5ex;\n",
              "  margin: .5ex;\n",
              "  width: min-content;\n",
              "  min-width: 20ex;\n",
              "  max-width: 50ex;\n",
              "  color: var(--sklearn-color-text);\n",
              "  box-shadow: 2pt 2pt 4pt #999;\n",
              "  /* unfitted */\n",
              "  background: var(--sklearn-color-unfitted-level-0);\n",
              "  border: .5pt solid var(--sklearn-color-unfitted-level-3);\n",
              "}\n",
              "\n",
              ".sk-estimator-doc-link.fitted span {\n",
              "  /* fitted */\n",
              "  background: var(--sklearn-color-fitted-level-0);\n",
              "  border: var(--sklearn-color-fitted-level-3);\n",
              "}\n",
              "\n",
              ".sk-estimator-doc-link:hover span {\n",
              "  display: block;\n",
              "}\n",
              "\n",
              "/* \"?\"-specific style due to the `<a>` HTML tag */\n",
              "\n",
              "#sk-container-id-2 a.estimator_doc_link {\n",
              "  float: right;\n",
              "  font-size: 1rem;\n",
              "  line-height: 1em;\n",
              "  font-family: monospace;\n",
              "  background-color: var(--sklearn-color-background);\n",
              "  border-radius: 1rem;\n",
              "  height: 1rem;\n",
              "  width: 1rem;\n",
              "  text-decoration: none;\n",
              "  /* unfitted */\n",
              "  color: var(--sklearn-color-unfitted-level-1);\n",
              "  border: var(--sklearn-color-unfitted-level-1) 1pt solid;\n",
              "}\n",
              "\n",
              "#sk-container-id-2 a.estimator_doc_link.fitted {\n",
              "  /* fitted */\n",
              "  border: var(--sklearn-color-fitted-level-1) 1pt solid;\n",
              "  color: var(--sklearn-color-fitted-level-1);\n",
              "}\n",
              "\n",
              "/* On hover */\n",
              "#sk-container-id-2 a.estimator_doc_link:hover {\n",
              "  /* unfitted */\n",
              "  background-color: var(--sklearn-color-unfitted-level-3);\n",
              "  color: var(--sklearn-color-background);\n",
              "  text-decoration: none;\n",
              "}\n",
              "\n",
              "#sk-container-id-2 a.estimator_doc_link.fitted:hover {\n",
              "  /* fitted */\n",
              "  background-color: var(--sklearn-color-fitted-level-3);\n",
              "}\n",
              "</style><div id=\"sk-container-id-2\" class=\"sk-top-container\"><div class=\"sk-text-repr-fallback\"><pre>LinearRegression()</pre><b>In a Jupyter environment, please rerun this cell to show the HTML representation or trust the notebook. <br />On GitHub, the HTML representation is unable to render, please try loading this page with nbviewer.org.</b></div><div class=\"sk-container\" hidden><div class=\"sk-item\"><div class=\"sk-estimator fitted sk-toggleable\"><input class=\"sk-toggleable__control sk-hidden--visually\" id=\"sk-estimator-id-2\" type=\"checkbox\" checked><label for=\"sk-estimator-id-2\" class=\"sk-toggleable__label fitted sk-toggleable__label-arrow fitted\">&nbsp;&nbsp;LinearRegression<a class=\"sk-estimator-doc-link fitted\" rel=\"noreferrer\" target=\"_blank\" href=\"https://scikit-learn.org/1.5/modules/generated/sklearn.linear_model.LinearRegression.html\">?<span>Documentation for LinearRegression</span></a><span class=\"sk-estimator-doc-link fitted\">i<span>Fitted</span></span></label><div class=\"sk-toggleable__content fitted\"><pre>LinearRegression()</pre></div> </div></div></div></div>"
            ]
          },
          "metadata": {},
          "execution_count": 52
        }
      ]
    },
    {
      "cell_type": "markdown",
      "source": [
        "* Este modelo foi selecionado de forma interativa conforme testes posteriormente feitos em relação a previsão do modelo"
      ],
      "metadata": {
        "id": "guhyqglmZiul"
      }
    },
    {
      "cell_type": "markdown",
      "source": [
        "### 7.2 Gráfico de resíduos e Avaliação do modelo"
      ],
      "metadata": {
        "id": "opp5BGH0AW_L"
      }
    },
    {
      "cell_type": "code",
      "source": [
        "# Prevendo com os dados de teste\n",
        "y_pred = model.predict(X_test)\n",
        "\n",
        "# Avaliação do modelo\n",
        "mse = mean_squared_error(y_test, y_pred)\n",
        "mae = mean_absolute_error(y_test, y_pred)\n",
        "r2 = r2_score(y_test, y_pred)\n",
        "\n",
        "print(f'Mean Squared Error (MSE): {mse}')\n",
        "print(f'Mean Absolute Error (MAE): {mae}')\n",
        "print(f'R² Score: {r2}')\n",
        "\n",
        "\n",
        "# Gráfico de Resíduos\n",
        "residuos = y_test - y_pred\n",
        "plt.figure(figsize=(10, 5))\n",
        "plt.scatter(y_pred, residuos)\n",
        "plt.axhline(0, color='red', linestyle='--')\n",
        "plt.title('Gráfico de Resíduos')\n",
        "plt.xlabel('Valores Preditos')\n",
        "plt.ylabel('Resíduos')\n",
        "plt.show()"
      ],
      "metadata": {
        "id": "Lhzq4vO3BUon",
        "colab": {
          "base_uri": "https://localhost:8080/",
          "height": 539
        },
        "outputId": "1f7a4a03-6448-4298-e921-ab61156a01cf"
      },
      "execution_count": 53,
      "outputs": [
        {
          "output_type": "stream",
          "name": "stdout",
          "text": [
            "Mean Squared Error (MSE): 1.664003471950572e-32\n",
            "Mean Absolute Error (MAE): 7.216449660063518e-17\n",
            "R² Score: 1.0\n"
          ]
        },
        {
          "output_type": "display_data",
          "data": {
            "text/plain": [
              "<Figure size 1000x500 with 1 Axes>"
            ],
            "image/png": "[encoded data removed]"
          },
          "metadata": {}
        }
      ]
    },
    {
      "cell_type": "markdown",
      "source": [
        "Análise\n",
        "*   O MSE é uma medida que quantifica a média dos erros ao quadrado entre as previsões do modelo e os valores reais. Um MSE próximo de zero indica que o modelo tem um bom ajuste aos dados. Neste caso, o MSE é muito baixo, o que sugere que as previsões do modelo estão muito próximas dos valores reais.\n",
        "*   O MAE mede a média dos erros absolutos entre as previsões do modelo e os valores reais. Assim como o MSE, um MAE menor indica um melhor desempenho do modelo.\n",
        "*   O  R² (ou coeficiente de determinação) mede a proporção da variabilidade da variável dependente que pode ser explicada pelo modelo. O R² varia entre 0 e 1, onde 1 indica que o modelo explica 100% da variabilidade nos dados\n",
        "\n",
        "\n",
        "\n"
      ],
      "metadata": {
        "id": "13lyYn-uFkBA"
      }
    },
    {
      "cell_type": "markdown",
      "source": [
        "# 8. Criando um pipeline para comparação de modelos"
      ],
      "metadata": {
        "id": "gp3mcWGmF_Uv"
      }
    },
    {
      "cell_type": "markdown",
      "source": [
        "8.1 Determinando e rodando os algorítmos"
      ],
      "metadata": {
        "id": "1QL7XkaU6Um2"
      }
    },
    {
      "cell_type": "code",
      "source": [
        "# Função para converter numpy.ndarray de volta para DataFrame\n",
        "def to_dataframe(X):\n",
        "    return pd.DataFrame(X, columns=['Qtd de vasilhames P 13', 'Qtd P 45', 'Qtd P 20'])"
      ],
      "metadata": {
        "id": "8XruGvt8KYkC"
      },
      "execution_count": 54,
      "outputs": []
    },
    {
      "cell_type": "code",
      "source": [
        "# Definindo a pipeline com imputação e escalonamento\n",
        "preprocessor = Pipeline(steps=[\n",
        "    ('imputer', SimpleImputer(strategy='mean')),  # Imputação de valores faltantes\n",
        "    ('scaler', StandardScaler())  # Escalonamento dos dados\n",
        "])"
      ],
      "metadata": {
        "id": "uMJRqgsxF_BQ"
      },
      "execution_count": 55,
      "outputs": []
    },
    {
      "cell_type": "code",
      "source": [
        "# Modelos e seus hiperparâmetros\n",
        "modelos = {\n",
        "    'Regressão Linear': {\n",
        "        'modelo': LinearRegression(),\n",
        "        'params': {}\n",
        "    },\n",
        "    'Random Forest': {\n",
        "        'modelo': RandomForestRegressor(random_state=42),\n",
        "        'params': {\n",
        "            'n_estimators': [50, 100, 200],\n",
        "            'max_depth': [None, 5, 10]\n",
        "        }\n",
        "    },\n",
        "    'SVR': {\n",
        "        'modelo': SVR(),\n",
        "        'params': {\n",
        "            'C': [0.1, 1, 10],\n",
        "            'kernel': ['linear', 'rbf']\n",
        "        }\n",
        "    },\n",
        "    'KNR': {\n",
        "        'modelo': KNeighborsRegressor(),\n",
        "        'params': {\n",
        "            'n_neighbors': [3, 5, 7],\n",
        "            'weights': ['uniform', 'distance']\n",
        "        }\n",
        "    },\n",
        "    'Árvore de Decisão': {\n",
        "        'modelo': DecisionTreeRegressor(),\n",
        "        'params': {\n",
        "            'max_depth': [None, 5, 10],\n",
        "            'min_samples_split': [2, 5, 10]\n",
        "        }\n",
        "    }\n",
        "}"
      ],
      "metadata": {
        "id": "yD3JC40uHmwo"
      },
      "execution_count": 56,
      "outputs": []
    },
    {
      "cell_type": "markdown",
      "source": [
        "### 8.2 Mostrando e comparando os resultados\n"
      ],
      "metadata": {
        "id": "vNeHG_R66dnG"
      }
    },
    {
      "cell_type": "code",
      "source": [
        "# Carregando os dados\n",
        "data = pd.read_csv(url)\n",
        "\n",
        "# Separando variáveis independentes e dependentes\n",
        "X = data[['Qtd de vasilhames P 13', 'Qtd P 45', 'Qtd P 20']]\n",
        "y = data['Intervalo de horas']\n",
        "\n",
        "# Dividindo os dados em conjuntos de treino e teste\n",
        "X_train, X_test, y_train, y_test = train_test_split(X, y, test_size=0.2, random_state=42)\n",
        "\n",
        "# Armazenar resultados\n",
        "resultados = []\n",
        "\n",
        "# Testando os modelos\n",
        "for nome, config in modelos.items():\n",
        "    # Criando a pipeline com o pré-processamento e o modelo\n",
        "    pipeline = Pipeline(steps=[\n",
        "        ('scaler', StandardScaler()),\n",
        "        ('modelo', config['modelo'])\n",
        "    ])\n",
        "\n",
        "    # Ajustando o modelo\n",
        "    pipeline.fit(X_train, y_train)\n",
        "\n",
        "    # Fazendo previsões\n",
        "    y_pred = pipeline.predict(X_test)\n",
        "\n",
        "    # Avaliando o modelo\n",
        "    mse = mean_squared_error(y_test, y_pred)\n",
        "    r2 = r2_score(y_test, y_pred)\n",
        "\n",
        "    # Armazenando os resultados\n",
        "    resultados.append({'Modelo': nome, 'MSE': mse, 'R²': r2})\n",
        "\n",
        "# Criando um DataFrame com os resultados\n",
        "df_resultados = pd.DataFrame(resultados)\n",
        "\n",
        "# Exibindo os resultados\n",
        "print(df_resultados)\n"
      ],
      "metadata": {
        "colab": {
          "base_uri": "https://localhost:8080/"
        },
        "id": "Uno-Nr6YAtjX",
        "outputId": "5aac992f-fbc1-4976-f45a-93e01c279833"
      },
      "execution_count": 57,
      "outputs": [
        {
          "output_type": "stream",
          "name": "stdout",
          "text": [
            "              Modelo           MSE        R²\n",
            "0   Regressão Linear  1.232595e-32  1.000000\n",
            "1      Random Forest  3.303832e-03  0.934133\n",
            "2                SVR  2.608739e-03  0.947991\n",
            "3                KNR  2.628532e-03  0.947596\n",
            "4  Árvore de Decisão  4.083150e-03  0.918596\n"
          ]
        }
      ]
    },
    {
      "cell_type": "markdown",
      "source": [
        "### 8.3 Análise:\n",
        "\n",
        "*   Desta forma, vemos que o melhor modelo é o  de Regressão linear, pois possui um MSE mais baixo que os outros, como também um R² mais próximo do 1 que os outros modelos\n",
        "*  Assim o notebook foi refeito com o melhor modelo\n",
        "\n",
        "\n"
      ],
      "metadata": {
        "id": "K3eNBcgSHl7B"
      }
    },
    {
      "cell_type": "markdown",
      "source": [
        "# 9. Ler os dados da planilha de agendamento do dia"
      ],
      "metadata": {
        "id": "n9DOW7CpGzkC"
      }
    },
    {
      "cell_type": "code",
      "source": [
        "# Agora, vamos ler os dados de outra planilha para fazer as previsões\n",
        "novos_dados = pd.read_excel('Agendamento.xlsx')\n",
        "\n",
        "# Preencher valores vazios com zero\n",
        "novos_dados[['Qtd de vasilhames P 13', 'Qtd P 45','Qtd  P 20']] = novos_dados[['Qtd de vasilhames P 13', 'Qtd P 45','Qtd  P 20']].fillna(0)"
      ],
      "metadata": {
        "id": "NFsjypfEG7ys"
      },
      "execution_count": 70,
      "outputs": []
    },
    {
      "cell_type": "markdown",
      "source": [
        "### 9.1 Fazendo a previsão"
      ],
      "metadata": {
        "id": "khN0DDFPHFcZ"
      }
    },
    {
      "cell_type": "code",
      "source": [
        "# Faça a previsão para cada linha e crie uma nova coluna com os resultados em minutos\n",
        "novos_dados['TEMPO PERMANÊNCIA PREVISTO (minutos)'] = [\n",
        "    math.ceil(model.predict([[row['Qtd de vasilhames P 13'], row['Qtd  P 20'], row['Qtd P 45']]])[0] * 60)\n",
        "    for _, row in novos_dados.iterrows()\n",
        "]"
      ],
      "metadata": {
        "id": "sB_i1mo_HHtJ"
      },
      "execution_count": null,
      "outputs": []
    },
    {
      "cell_type": "markdown",
      "source": [
        "### 9.2 Salvando os dados na nova planilha"
      ],
      "metadata": {
        "id": "He9UGdWVHLSb"
      }
    },
    {
      "cell_type": "code",
      "source": [
        "# Salve os resultados em uma nova planilha\n",
        "novos_dados.to_excel('Agendamento com Previsão.xlsx', index=False)\n",
        "\n",
        "print(\"Previsões concluídas e salvas em 'Agendamento com Previsão.xlsx'\")"
      ],
      "metadata": {
        "id": "vRLWVP5haL8g",
        "colab": {
          "base_uri": "https://localhost:8080/"
        },
        "outputId": "fa498e5a-e009-4338-e9c0-1401f6d8e638"
      },
      "execution_count": 73,
      "outputs": [
        {
          "output_type": "stream",
          "name": "stdout",
          "text": [
            "Previsões concluídas e salvas em 'Agendamento com Previsão.xlsx'\n"
          ]
        }
      ]
    },
    {
      "cell_type": "markdown",
      "source": [
        "# 10. Conclusão\n",
        "* Assim, por meio deste projeto, é possível prever o tempo de permanência dos veículos na planta a partir de um algoritmo de regressão linear. Alguns modelos de regressão foram testados e comparados, e o escolhido foi o modelo de linear regression, pois apresentou os melhores resultados em seus hiperparâmetros em comparação com os demais.\n",
        "* Fica como próximos passos os testes com dados mais próximos da realidade e verificação da influência de P45 e P20 no tempo de permanência, considerando a nova hipótese que somente o número de P13 pode ser suficiente para uma boa previsão, assim como sugerido pelo gráfico de dispersão."
      ],
      "metadata": {
        "id": "K9JBieTPIcnn"
      }
    }
  ]
}